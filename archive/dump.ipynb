{
 "cells": [
  {
   "cell_type": "code",
   "execution_count": null,
   "id": "initial_id",
   "metadata": {
    "collapsed": true
   },
   "outputs": [],
   "source": [
    ""
   ]
  },
  {
   "metadata": {},
   "cell_type": "code",
   "outputs": [],
   "execution_count": null,
   "source": "",
   "id": "c0ee2fd61d59c224"
  },
  {
   "metadata": {},
   "cell_type": "markdown",
   "source": [
    "---\n",
    "# Old Cells/Refs, Run @ Own Risk"
   ],
   "id": "d057a6dd07415323"
  },
  {
   "metadata": {},
   "cell_type": "code",
   "outputs": [],
   "execution_count": null,
   "source": [
    "# todo: old time series - validate/reorganize\n",
    "df_time = df_time.groupby('charttime')['heart_rate'].mean().dropna()\n",
    "df_time.index = pd.to_datetime(df_time.index, errors='coerce')\n",
    "df_time = df_time.sort_index().dropna()\n",
    "df_time = df_time.asfreq('D').interpolate(method='time')\n",
    "\n",
    "# Continue with time series preparation\n",
    "time_series_data = df_time\n",
    "\n",
    "# Fit ARIMA model\n",
    "order = (5, 1, 0)  # Example ARIMA parameters, adjust as needed\n",
    "model = ARIMA(time_series_data, order=order)\n",
    "model_fit = model.fit()\n",
    "\n",
    "# Forecast the next 30 days\n",
    "forecast = model_fit.forecast(steps=30)\n",
    "\n",
    "# Plot the actual data and forecast\n",
    "plt.figure(figsize=(12, 6))\n",
    "plt.plot(time_series_data, label='Actual Data', marker='o')\n",
    "plt.plot(forecast.index, forecast, label='Forecast', linestyle='--', color='orange')\n",
    "plt.title('ARIMA Model - Heart Rate')\n",
    "plt.xlabel('Charttime')\n",
    "plt.ylabel('Heart Rate')\n",
    "plt.legend()\n",
    "plt.grid()\n",
    "plt.show()"
   ],
   "id": "f3f42a15ec19a06c"
  },
  {
   "metadata": {},
   "cell_type": "code",
   "outputs": [],
   "execution_count": null,
   "source": [
    "# todo: old time series - validate/reorganize\n",
    "\n",
    "df_time = df_time.groupby('charttime')['heart_rate'].mean().dropna()\n",
    "df_time.index = pd.to_datetime(df_time.index, errors='coerce')\n",
    "df_time = df_time.sort_index().dropna()\n",
    "df_time = df_time.asfreq('D').interpolate(method='time')\n",
    "\n",
    "# Continue with time series preparation\n",
    "time_series_data = df_time\n",
    "\n",
    "# Calculate a moving average and min/max for better visualization\n",
    "window_size = 7  # Weekly moving average\n",
    "moving_avg = time_series_data.rolling(window=window_size).mean()\n",
    "moving_min = time_series_data.rolling(window=window_size).min()\n",
    "moving_max = time_series_data.rolling(window=window_size).max()\n",
    "\n",
    "# Fit ARIMA model\n",
    "order = (5, 1, 0)  # Example ARIMA parameters, adjust as needed\n",
    "model = ARIMA(time_series_data, order=order)\n",
    "model_fit = model.fit()\n",
    "\n",
    "# Forecast the next 30 days\n",
    "forecast = model_fit.forecast(steps=30)\n",
    "\n",
    "# Plot the actual data, moving average, min/max, and forecast\n",
    "plt.figure(figsize=(14, 8))\n",
    "\n",
    "# Actual data\n",
    "plt.plot(time_series_data, label='Actual Data', color='blue', alpha=0.4, marker='o', markersize=2)\n",
    "\n",
    "# Moving average\n",
    "plt.plot(moving_avg, label=f'{window_size}-Day Moving Average', color='green', linewidth=2)\n",
    "\n",
    "# Min/Max bands\n",
    "plt.fill_between(time_series_data.index, moving_min, moving_max, color='gray', alpha=0.3, label='Min/Max Range')\n",
    "\n",
    "# Forecast\n",
    "plt.plot(forecast.index, forecast, label='Forecast (30 days)', linestyle='--', color='orange', linewidth=2)\n",
    "\n",
    "# Improve plot aesthetics\n",
    "plt.title('ARIMA Model - Heart Rate with Moving Average and Min/Max Range', fontsize=16)\n",
    "plt.xlabel('Charttime', fontsize=12)\n",
    "plt.ylabel('Heart Rate', fontsize=12)\n",
    "plt.legend(fontsize=10)\n",
    "plt.grid(alpha=0.3)\n",
    "plt.tight_layout()\n",
    "\n",
    "# Show the plot\n",
    "plt.show()"
   ],
   "id": "4442937c63defb62"
  },
  {
   "metadata": {},
   "cell_type": "code",
   "outputs": [],
   "execution_count": null,
   "source": [
    "# todo: old time series - validate/reorganize\n",
    "\n",
    "df_time['heart_rate'] = pd.to_numeric(df_time['heart_rate'], errors='coerce')\n",
    "df_time = df_time.dropna(subset=['heart_rate', 'charttime'])\n",
    "df_time = df_time.groupby('charttime')['heart_rate'].mean().dropna()\n",
    "df_time.index = pd.to_datetime(df_time.index, errors='coerce')\n",
    "df_time = df_time.sort_index().dropna()\n",
    "df_time = df_time.asfreq('D').interpolate(method='time')\n",
    "\n",
    "# Continue with time series preparation\n",
    "time_series_data = df_time\n",
    "\n",
    "# Calculate a moving average and min/max for better visualization\n",
    "window_size = 7  # Weekly moving average\n",
    "moving_avg = time_series_data.rolling(window=window_size).mean()\n",
    "moving_min = time_series_data.rolling(window=window_size).min()\n",
    "moving_max = time_series_data.rolling(window=window_size).max()\n",
    "\n",
    "# Fit ARIMA model\n",
    "order = (5, 1, 0)  # Example ARIMA parameters, adjust as needed\n",
    "model = ARIMA(time_series_data, order=order)\n",
    "model_fit = model.fit()\n",
    "\n",
    "# Forecast the next 90 days with confidence intervals\n",
    "forecast_object = model_fit.get_forecast(steps=90)\n",
    "forecast = forecast_object.predicted_mean\n",
    "confidence_intervals = forecast_object.conf_int()\n",
    "\n",
    "# Extract lower and upper bounds of confidence intervals\n",
    "lower_bounds = confidence_intervals.iloc[:, 0]\n",
    "upper_bounds = confidence_intervals.iloc[:, 1]\n",
    "\n",
    "# Plot the historical data and forecast with confidence intervals\n",
    "plt.figure(figsize=(12, 6))\n",
    "plt.plot(time_series_data, label='Historical', color='blue', linewidth=2)\n",
    "plt.plot(forecast.index, forecast, label='Forecast (90 days)', color='red', linestyle='--', linewidth=2)\n",
    "plt.fill_between(forecast.index, lower_bounds, upper_bounds, color='red', alpha=0.2, label='Confidence Interval')\n",
    "\n",
    "# Add titles and labels\n",
    "plt.title('Heart Rate Forecast (90 days) for Patient 16454913', fontsize=14)\n",
    "plt.xlabel('Date', fontsize=12)\n",
    "plt.ylabel('Heart Rate', fontsize=12)\n",
    "plt.legend(fontsize=10)\n",
    "plt.grid(alpha=0.3)\n",
    "plt.tight_layout()\n",
    "\n",
    "# Show the plot\n",
    "plt.show()"
   ],
   "id": "e88260752164ee92"
  },
  {
   "metadata": {},
   "cell_type": "code",
   "outputs": [],
   "execution_count": null,
   "source": [
    "plot_histogram(vdf, 'heart_rate', 50)\n",
    "plot_scatter(vdf, 'heart_rate', 'resp_rate', alpha=0.2)\n",
    "plot_scatter(vdf, 'heart_rate', 'charttime', alpha=0.2)"
   ],
   "id": "6c61a5aeca3b1e97"
  },
  {
   "metadata": {},
   "cell_type": "code",
   "outputs": [],
   "execution_count": null,
   "source": [
    "vdf_numeric = vdf.drop(columns=vdf.select_dtypes(exclude=['number']).columns)\n",
    "vdf_numeric.drop('subject_id', axis=1, inplace=True)\n",
    "vdf_numeric.drop('stay_id', axis=1, inplace=True)\n",
    "vdf_numeric.head()"
   ],
   "id": "6fe98d8b5a2bdaeb"
  },
  {
   "metadata": {},
   "cell_type": "code",
   "outputs": [],
   "execution_count": null,
   "source": [
    "vdf_corr = vdf_numeric.corr()\n",
    "plot_correlation_matrix(vdf_corr)"
   ],
   "id": "cf8186da85ce50b5"
  },
  {
   "metadata": {},
   "cell_type": "code",
   "outputs": [],
   "execution_count": null,
   "source": [
    "vdf_corr_dropna = vdf_numeric.dropna().corr()\n",
    "plot_correlation_matrix(vdf_corr_dropna)"
   ],
   "id": "dcc7c8950c39c2b4"
  },
  {
   "metadata": {},
   "cell_type": "code",
   "outputs": [],
   "execution_count": null,
   "source": [
    "# re-query vdf, joining age value\n",
    "vital_age_query = f\"\"\"\n",
    "select t1.*, t2.age\n",
    "from mimiciv_derived.vitalsign t1\n",
    "join mimiciv_derived.age t2\n",
    "on t1.subject_id = t2.subject_id\n",
    "where heart_rate is not NULL;\n",
    "\"\"\"\n",
    "\n",
    "chunks = pd.read_sql(vital_age_query, engine, chunksize=100000)\n"
   ],
   "id": "cb9909584a4b8867"
  },
  {
   "metadata": {},
   "cell_type": "code",
   "outputs": [],
   "execution_count": null,
   "source": [
    "# compile vitals + age dataframe from chunks \n",
    "va_df = pd.concat(chunks, ignore_index=True)\n",
    "va_df.head()"
   ],
   "id": "3a9afde5e50ef7f6"
  },
  {
   "metadata": {},
   "cell_type": "code",
   "outputs": [],
   "execution_count": null,
   "source": [
    "va_corr_df = va_df.drop(columns=va_df.select_dtypes(exclude=['number']).columns)\n",
    "va_corr = va_corr_df.corr()\n",
    "plot_correlation_matrix(va_corr)"
   ],
   "id": "7b978a7532b3d032"
  },
  {
   "metadata": {},
   "cell_type": "markdown",
   "source": "## Vitals + Chemistry",
   "id": "711eca3ed27a876e"
  },
  {
   "metadata": {},
   "cell_type": "code",
   "outputs": [],
   "execution_count": null,
   "source": [
    "# query vitals + chemistry\n",
    "vital_chem_query = f\"\"\"\n",
    "select t1.heart_rate, t1.sbp, t1.dbp, t1.mbp, t1.sbp_ni, t1.dbp_ni, t1.mbp_ni, t1.resp_rate, t1.temperature, t1.spo2,\n",
    "       t2.aniongap, t2.bicarbonate, t2.bun, t2.calcium, t2.chloride, t2.creatinine, t1.glucose, t2.sodium, t2.potassium,\n",
    "        t3.weight\n",
    "from mimiciv_derived.vitalsign t1\n",
    "         join mimiciv_derived.chemistry t2\n",
    "              on t1.subject_id = t2.subject_id\n",
    "        join mimiciv_derived.weight_durations t3\n",
    "            on t1.stay_id = t3.stay_id\n",
    "where t1.heart_rate is not null\n",
    "  and t1.sbp is not null\n",
    "  and t1.dbp is not null\n",
    "  and t1.mbp is not null\n",
    "  and t1.sbp_ni is not null\n",
    "  and t1.dbp_ni is not null\n",
    "  and t1.mbp_ni is not null\n",
    "  and t1.resp_rate is not null\n",
    "  and t1.temperature is not null\n",
    "  and t1.spo2 is not null\n",
    "  and t2.aniongap is not null\n",
    "  and t2.bicarbonate is not null\n",
    "  and t2.bun is not null\n",
    "  and t2.calcium is not null\n",
    "  and t2.chloride is not null\n",
    "  and t2.creatinine is not null\n",
    "  and t1.glucose is not null\n",
    "  and t2.sodium is not null\n",
    "  and t2.potassium is not null\n",
    "  and t3.weight is not null;\n",
    "\"\"\"\n",
    "\n",
    "chunks = pd.read_sql(vital_chem_query, engine, chunksize=100000)"
   ],
   "id": "410a758b6e7c25d0"
  },
  {
   "metadata": {},
   "cell_type": "code",
   "outputs": [],
   "execution_count": null,
   "source": "",
   "id": "315f1bfd0f87a369"
  },
  {
   "metadata": {},
   "cell_type": "code",
   "outputs": [],
   "execution_count": null,
   "source": "#vc_df.head(5)",
   "id": "d068188fce133c4"
  },
  {
   "metadata": {},
   "cell_type": "code",
   "outputs": [],
   "execution_count": null,
   "source": "#vc_df_corr = vc_df.drop(columns=vc_df.select_dtypes(exclude=['number']).columns).corr()",
   "id": "61a2f2ba4534155c"
  },
  {
   "metadata": {},
   "cell_type": "code",
   "outputs": [],
   "execution_count": null,
   "source": "#plot_correlation_matrix(vc_df_corr)",
   "id": "cef5966fd3bfbfe3"
  },
  {
   "metadata": {},
   "cell_type": "code",
   "outputs": [],
   "execution_count": null,
   "source": "",
   "id": "6cb29aab6c9d53db"
  }
 ],
 "metadata": {
  "kernelspec": {
   "display_name": "Python 3",
   "language": "python",
   "name": "python3"
  },
  "language_info": {
   "codemirror_mode": {
    "name": "ipython",
    "version": 2
   },
   "file_extension": ".py",
   "mimetype": "text/x-python",
   "name": "python",
   "nbconvert_exporter": "python",
   "pygments_lexer": "ipython2",
   "version": "2.7.6"
  }
 },
 "nbformat": 4,
 "nbformat_minor": 5
}
