{
 "cells": [
  {
   "cell_type": "code",
   "id": "initial_id",
   "metadata": {
    "collapsed": true,
    "ExecuteTime": {
     "end_time": "2024-12-12T10:51:11.409257Z",
     "start_time": "2024-12-12T10:51:04.574854Z"
    }
   },
   "source": [
    "# 02_supervised.ipynb\n",
    "\n",
    "%load_ext autoreload\n",
    "%autoreload 2\n",
    "\n",
    "import pandas as pd\n",
    "import numpy as np\n",
    "from sklearn.ensemble import RandomForestRegressor\n",
    "from sklearn.metrics import mean_squared_error, r2_score\n",
    "from sklearn.model_selection import train_test_split\n",
    "\n",
    "from setup_utils import load_intermediate_data, plr, save_intermediate_data\n",
    "\n",
    "df = load_intermediate_data('data/intermediate_unsupervised.csv')\n",
    "\n",
    "cols_vitals = ['heart_rate', 'resp_rate', 'mbp', 'temperature', 'spo2']\n",
    "non_hr_vitals = [col for col in cols_vitals if col != 'heart_rate']\n",
    "\n",
    "# Convert boolean outliers to int\n",
    "df['kmeans_outlier'] = df['kmeans_outlier'].astype(int)\n",
    "df['dbscan_outlier'] = df['dbscan_outlier'].astype(int)\n",
    "df['umap_dbscan_outlier'] = df['umap_dbscan_outlier'].astype(int)\n",
    "\n",
    "# Create an outlier score as example\n",
    "df['outlier_score'] = df['kmeans_outlier'] + df['dbscan_outlier'] + df['umap_dbscan_outlier']\n",
    "\n",
    "# One-hot encode outlier combination\n",
    "df = pd.get_dummies(df, columns=['outlier_combination'], prefix='outlier_comb')\n",
    "\n",
    "X = df[non_hr_vitals]  # Features\n",
    "y = df['heart_rate']    # Target\n",
    "\n",
    "X_train, X_test, y_train, y_test = train_test_split(X, y, test_size=0.2, random_state=42)\n",
    "\n",
    "model = RandomForestRegressor(random_state=42, n_estimators=100)\n",
    "model.fit(X_train, y_train)\n",
    "y_pred = model.predict(X_test)\n",
    "\n",
    "baseline_pred = [y_train.mean()] * len(y_test)\n",
    "baseline_mse = mean_squared_error(y_test, baseline_pred)\n",
    "model_mse = mean_squared_error(y_test, y_pred)\n",
    "model_rmse = np.sqrt(model_mse)\n",
    "model_r2 = r2_score(y_test, y_pred)\n",
    "\n",
    "print(\"Random Forest Results:\")\n",
    "print(f\"Baseline MSE: {baseline_mse:.2f}\")\n",
    "print(f\"Model MSE: {model_mse:.2f}\")\n",
    "print(f\"Model RMSE: {model_rmse:.2f}\")\n",
    "print(f\"R-squared (R²): {model_r2:.2f}\")\n",
    "\n",
    "plr()\n",
    "\n",
    "# (Optional) Save intermediate supervised data if needed\n",
    "save_intermediate_data(df, 'data/intermediate_supervised.csv')\n"
   ],
   "outputs": [
    {
     "name": "stdout",
     "output_type": "stream",
     "text": [
      "The autoreload extension is already loaded. To reload it, use:\n",
      "  %reload_ext autoreload\n",
      "Random Forest Results:\n",
      "Baseline MSE: 237.34\n",
      "Model MSE: 227.85\n",
      "Model RMSE: 15.09\n",
      "R-squared (R²): 0.04\n",
      "@24/12/12 05:51:11 Eastern Standard Time\n"
     ]
    }
   ],
   "execution_count": 2
  },
  {
   "metadata": {
    "ExecuteTime": {
     "end_time": "2024-12-12T10:50:58.224060Z",
     "start_time": "2024-12-12T10:50:58.211853Z"
    }
   },
   "cell_type": "code",
   "source": "",
   "id": "46a87bba7c21b28e",
   "outputs": [],
   "execution_count": null
  }
 ],
 "metadata": {
  "kernelspec": {
   "display_name": "Python 3",
   "language": "python",
   "name": "python3"
  },
  "language_info": {
   "codemirror_mode": {
    "name": "ipython",
    "version": 2
   },
   "file_extension": ".py",
   "mimetype": "text/x-python",
   "name": "python",
   "nbconvert_exporter": "python",
   "pygments_lexer": "ipython2",
   "version": "2.7.6"
  }
 },
 "nbformat": 4,
 "nbformat_minor": 5
}
